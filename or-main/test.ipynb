{
 "cells": [
  {
   "cell_type": "code",
   "execution_count": null,
   "metadata": {},
   "outputs": [],
   "source": [
    "from scrapegraphai.graphs import Graph\n",
    "\n",
    "def get_price_llm():\n",
    "    \n",
    "    graph_config = {\n",
    "    \"llm\": {\n",
    "        \"model\": \"ollama/gemma2:2b\",\n",
    "        \"temperature\": 1,\n",
    "        \"format\": \"json\",  # Ollama needs the format to be specified explicitly\n",
    "        #\"model_tokens\": 2000, #  depending on the model set context length\n",
    "        \"base_url\": \"http://localhost:11434\",  # set ollama URL of the local host (YOU CAN CHANGE IT, if you have a different endpoint\n",
    "    }\n",
    "    }\n",
    "\n",
    "    # ************************************************\n",
    "    # Create the SmartScraperGraph instance and run it\n",
    "    # ************************************************\n",
    "\n",
    "    smart_scraper_graph = Graph(\n",
    "    prompt=\"Give me the product price.\",\n",
    "    # also accepts a string with the already downloaded HTML code\n",
    "    source=\"https://www.jimms.fi/fi/Product/Show/187900/fd-c-nor1c-02/fractal-design-north-charcoal-black-tg-dark-ikkunallinen-miditornikotelo-musta\",\n",
    "    config=graph_config\n",
    "    )\n",
    "\n",
    "    result = smart_scraper_graph.run()\n",
    "    print(result)"
   ]
  }
 ],
 "metadata": {
  "kernelspec": {
   "display_name": "Python 3",
   "language": "python",
   "name": "python3"
  },
  "language_info": {
   "name": "python",
   "version": "3.12.2"
  }
 },
 "nbformat": 4,
 "nbformat_minor": 2
}
